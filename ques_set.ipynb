{
 "cells": [
  {
   "cell_type": "markdown",
   "id": "c7657a64-c28f-499f-beae-9d87e3769448",
   "metadata": {},
   "source": [
    "# Question Set"
   ]
  },
  {
   "cell_type": "markdown",
   "id": "99bf7a6a-fe28-4c82-b928-4f9d19094da1",
   "metadata": {},
   "source": [
    "**Question**\n",
    "\n",
    "1. The concept of neural network.\n",
    "2. Why can the nn solve the linearly inseperable problem?\n",
    "3. What's the universal approximation theorem? Why is it work in nn?\n",
    "4. Why should we use deep nn instead of shallow nn? And what makes MLP (Multi-Layer Perceptrons) work?\n",
    "5. The trade-off between the shallow nn and the deep nn.\n",
    "6. The Pros and Cons of GD and SGD.\n",
    "7. Why parameter initialization is crucial?\n",
    "8. The source of error when measuring the performance and how to reduce the error.\n",
    "9. What causes the double descent?\n",
    "10. The common methods for regularization."
   ]
  },
  {
   "cell_type": "markdown",
   "id": "41c1e388-ee6c-4ba1-9530-832f18ce4cbc",
   "metadata": {},
   "source": [
    "**Reference Answer**"
   ]
  }
 ],
 "metadata": {
  "kernelspec": {
   "display_name": "Python 3 (ipykernel)",
   "language": "python",
   "name": "python3"
  },
  "language_info": {
   "codemirror_mode": {
    "name": "ipython",
    "version": 3
   },
   "file_extension": ".py",
   "mimetype": "text/x-python",
   "name": "python",
   "nbconvert_exporter": "python",
   "pygments_lexer": "ipython3",
   "version": "3.10.12"
  }
 },
 "nbformat": 4,
 "nbformat_minor": 5
}
